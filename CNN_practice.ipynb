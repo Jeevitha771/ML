{
 "cells": [
  {
   "cell_type": "markdown",
   "metadata": {
    "id": "ZStvqEG7m3u4"
   },
   "source": [
    "# Convolutional Neural Network"
   ]
  },
  {
   "cell_type": "markdown",
   "metadata": {
    "id": "fOc49tUCnNXi"
   },
   "source": [
    "### Importing the libraries"
   ]
  },
  {
   "cell_type": "code",
   "execution_count": 1,
   "metadata": {
    "id": "jGJCadRnheIQ"
   },
   "outputs": [],
   "source": [
    "import tensorflow as tf\n",
    "from keras.preprocessing.image import ImageDataGenerator"
   ]
  },
  {
   "cell_type": "code",
   "execution_count": 2,
   "metadata": {
    "colab": {
     "base_uri": "https://localhost:8080/",
     "height": 35
    },
    "id": "Ucq4MncAm198",
    "outputId": "5ee3d984-8175-4602-8e3c-0c7b2bdda43b"
   },
   "outputs": [
    {
     "data": {
      "text/plain": [
       "'2.13.0'"
      ]
     },
     "execution_count": 2,
     "metadata": {},
     "output_type": "execute_result"
    }
   ],
   "source": [
    "tf.__version__"
   ]
  },
  {
   "cell_type": "markdown",
   "metadata": {
    "id": "gDsj0723nXoh"
   },
   "source": [
    "## Part 1 - Data Preprocessing"
   ]
  },
  {
   "cell_type": "markdown",
   "metadata": {
    "id": "Hl16__MqneXH"
   },
   "source": [
    "### Preprocessing the Training set"
   ]
  },
  {
   "cell_type": "code",
   "execution_count": 3,
   "metadata": {
    "id": "MfNAB_TInunG"
   },
   "outputs": [],
   "source": [
    "# we apply transformations on training set to avoid overfitting\n",
    "#that means we will get very high accuracies on the training set close to 98% and much lower accuracies on the test set which need to be avoided\n",
    "#so this is overfitting that needs to be avoided whether working with the classic dataset or working with computer vision\n",
    "#And this overfitting can be avoided using transformations\n",
    "#There are some simple geometrical tranformations or zoom or rotations on your image\n",
    "#Geometrical transformations i.e transvections to shift some of the pixels are applied, then rotate some images i.e few horizontal flips and gonna do some zoom in and zoom out\n",
    "#We are gonna apply some series of transormations so as to modify some images to get them as we say augmented..This is image Augmentation we are going to do\n",
    "#Which consists basically of transforming the images of your training set so that your cnn model doesn't overlearn, not overtrained on existing images\n",
    "#By applying this transformations we get new images that is why we call it as image augmentation, we augment the variety of training set images"
   ]
  },
  {
   "cell_type": "code",
   "execution_count": 4,
   "metadata": {
    "id": "t81PcjUHqBvZ"
   },
   "outputs": [
    {
     "name": "stdout",
     "output_type": "stream",
     "text": [
      "Found 8000 images belonging to 2 classes.\n"
     ]
    }
   ],
   "source": [
    "train_datagen =ImageDataGenerator(\n",
    "    rescale = 1./255,\n",
    "    shear_range = 0.2,\n",
    "    zoom_range = 0.2,\n",
    "    horizontal_flip = True\n",
    ") #this is an object of image augumentation tool need to be connected to our training image dataset\n",
    "training_set = train_datagen.flow_from_directory(\n",
    "    'dataset/training_set',\n",
    "    target_size=(64, 64),\n",
    "    color_mode='rgb',\n",
    "    class_mode='binary',\n",
    "    batch_size=32)"
   ]
  },
  {
   "cell_type": "markdown",
   "metadata": {
    "id": "2dNlXvjBneTo"
   },
   "source": [
    "### Preprocessing the Test set"
   ]
  },
  {
   "cell_type": "code",
   "execution_count": 5,
   "metadata": {
    "id": "CI3CKeUvnVWQ"
   },
   "outputs": [
    {
     "name": "stdout",
     "output_type": "stream",
     "text": [
      "Found 2000 images belonging to 2 classes.\n"
     ]
    }
   ],
   "source": [
    "test_datagen = ImageDataGenerator(rescale = 1./255) #here only feature scaling but no image augumentation is applied\n",
    "test_set = test_datagen.flow_from_directory(\n",
    "    'dataset/test_set',\n",
    "    target_size = (64, 64),\n",
    "    batch_size = 32,\n",
    "    class_mode = 'binary' )"
   ]
  },
  {
   "cell_type": "markdown",
   "metadata": {
    "id": "4uO33gXcv1QA"
   },
   "source": [
    "## Part 2 - Building the CNN"
   ]
  },
  {
   "cell_type": "markdown",
   "metadata": {
    "id": "BcJ8FgR8v6Mn"
   },
   "source": [
    "### Initialising the CNN"
   ]
  },
  {
   "cell_type": "code",
   "execution_count": 6,
   "metadata": {
    "id": "6DV5fxPpwqaX"
   },
   "outputs": [],
   "source": [
    "cnn = tf.keras.models.Sequential()"
   ]
  },
  {
   "cell_type": "markdown",
   "metadata": {
    "id": "xPCN5_ahv9vp"
   },
   "source": [
    "### Step 1 - Convolution"
   ]
  },
  {
   "cell_type": "code",
   "execution_count": 7,
   "metadata": {
    "id": "sWJbEXPUw3Wu"
   },
   "outputs": [],
   "source": [
    "cnn.add(tf.keras.layers.Conv2D(filters = 32, kernel_size = 3, activation = 'relu', input_shape = [64,64,3]))\n",
    " #This adds covolution layer to our cnn initialized as a sequence of layers"
   ]
  },
  {
   "cell_type": "markdown",
   "metadata": {
    "id": "JSijce2cwE7l"
   },
   "source": [
    "### Step 2 - Pooling"
   ]
  },
  {
   "cell_type": "code",
   "execution_count": 8,
   "metadata": {
    "id": "9I-gXdx5y-wH"
   },
   "outputs": [],
   "source": [
    "cnn.add(tf.keras.layers.MaxPool2D(pool_size = 2, strides = 2)) #Padding valid: ignore padding same: add extra column of fake pixels with zeroes during Maxpooling"
   ]
  },
  {
   "cell_type": "markdown",
   "metadata": {
    "id": "qPDmWJ5cwJoi"
   },
   "source": [
    "### Adding a second convlutional layer"
   ]
  },
  {
   "cell_type": "code",
   "execution_count": 9,
   "metadata": {
    "id": "yYj3b36K0RqK"
   },
   "outputs": [],
   "source": [
    "cnn.add(tf.keras.layers.Conv2D(filters = 32, kernel_size = 3, activation = 'relu'))\n",
    "cnn.add(tf.keras.layers.MaxPool2D(pool_size = 2, strides = 2))"
   ]
  },
  {
   "cell_type": "markdown",
   "metadata": {
    "id": "_tYiEbvpwOjH"
   },
   "source": [
    "### Step 3 - Flattening"
   ]
  },
  {
   "cell_type": "code",
   "execution_count": 10,
   "metadata": {
    "id": "H96s-siW0iLG"
   },
   "outputs": [],
   "source": [
    "cnn.add(tf.keras.layers.Flatten())"
   ]
  },
  {
   "cell_type": "markdown",
   "metadata": {
    "id": "aWG7CjWFwRzT"
   },
   "source": [
    "### Step 4 - Full connection"
   ]
  },
  {
   "cell_type": "code",
   "execution_count": 11,
   "metadata": {
    "id": "rfspihjO06SE"
   },
   "outputs": [],
   "source": [
    "cnn.add(tf.keras.layers.Dense(units = 128, activation = 'relu'))"
   ]
  },
  {
   "cell_type": "markdown",
   "metadata": {
    "id": "5swtjMxDwVSv"
   },
   "source": [
    "### Step 5 - Output Layer"
   ]
  },
  {
   "cell_type": "code",
   "execution_count": 12,
   "metadata": {
    "id": "vBYqmG6E1O_a"
   },
   "outputs": [],
   "source": [
    "cnn.add(tf.keras.layers.Dense(units = 1, activation = 'sigmoid'))"
   ]
  },
  {
   "cell_type": "markdown",
   "metadata": {
    "id": "SWP-Cyc-wa--"
   },
   "source": [
    "## Part 3 - Training the CNN"
   ]
  },
  {
   "cell_type": "markdown",
   "metadata": {
    "id": "1xD28mXoweaE"
   },
   "source": [
    "### Compiling the CNN"
   ]
  },
  {
   "cell_type": "code",
   "execution_count": 13,
   "metadata": {
    "id": "yED7ZMHOv4Xg"
   },
   "outputs": [],
   "source": [
    "cnn.compile(optimizer = 'adam', loss = 'binary_crossentropy', metrics = ['accuracy'])"
   ]
  },
  {
   "cell_type": "markdown",
   "metadata": {
    "id": "9W3zE92W1oZF"
   },
   "source": [
    "### Training the CNN on the Training set and evaluating it on the Test set"
   ]
  },
  {
   "cell_type": "code",
   "execution_count": 14,
   "metadata": {
    "id": "3vTgep0o1xhb",
    "scrolled": true
   },
   "outputs": [
    {
     "name": "stdout",
     "output_type": "stream",
     "text": [
      "Epoch 1/25\n",
      "250/250 [==============================] - 167s 665ms/step - loss: 0.6740 - accuracy: 0.5676 - val_loss: 0.6175 - val_accuracy: 0.6740\n",
      "Epoch 2/25\n",
      "250/250 [==============================] - 130s 521ms/step - loss: 0.6043 - accuracy: 0.6755 - val_loss: 0.5835 - val_accuracy: 0.7005\n",
      "Epoch 3/25\n",
      "250/250 [==============================] - 32s 129ms/step - loss: 0.5796 - accuracy: 0.6964 - val_loss: 0.5501 - val_accuracy: 0.7315\n",
      "Epoch 4/25\n",
      "250/250 [==============================] - 33s 132ms/step - loss: 0.5388 - accuracy: 0.7308 - val_loss: 0.6999 - val_accuracy: 0.6550\n",
      "Epoch 5/25\n",
      "250/250 [==============================] - 32s 127ms/step - loss: 0.5235 - accuracy: 0.7391 - val_loss: 0.5930 - val_accuracy: 0.7095\n",
      "Epoch 6/25\n",
      "250/250 [==============================] - 32s 127ms/step - loss: 0.5044 - accuracy: 0.7554 - val_loss: 0.5030 - val_accuracy: 0.7555\n",
      "Epoch 7/25\n",
      "250/250 [==============================] - 32s 128ms/step - loss: 0.4923 - accuracy: 0.7602 - val_loss: 0.5037 - val_accuracy: 0.7625\n",
      "Epoch 8/25\n",
      "250/250 [==============================] - 31s 124ms/step - loss: 0.4653 - accuracy: 0.7824 - val_loss: 0.4869 - val_accuracy: 0.7655\n",
      "Epoch 9/25\n",
      "250/250 [==============================] - 32s 127ms/step - loss: 0.4536 - accuracy: 0.7846 - val_loss: 0.4572 - val_accuracy: 0.7835\n",
      "Epoch 10/25\n",
      "250/250 [==============================] - 32s 127ms/step - loss: 0.4442 - accuracy: 0.7949 - val_loss: 0.4520 - val_accuracy: 0.7960\n",
      "Epoch 11/25\n",
      "250/250 [==============================] - 34s 135ms/step - loss: 0.4313 - accuracy: 0.7979 - val_loss: 0.4439 - val_accuracy: 0.7950\n",
      "Epoch 12/25\n",
      "250/250 [==============================] - 31s 123ms/step - loss: 0.4180 - accuracy: 0.8085 - val_loss: 0.4549 - val_accuracy: 0.7955\n",
      "Epoch 13/25\n",
      "250/250 [==============================] - 31s 122ms/step - loss: 0.4133 - accuracy: 0.8046 - val_loss: 0.4228 - val_accuracy: 0.8140\n",
      "Epoch 14/25\n",
      "250/250 [==============================] - 29s 116ms/step - loss: 0.4140 - accuracy: 0.8083 - val_loss: 0.4325 - val_accuracy: 0.8125\n",
      "Epoch 15/25\n",
      "250/250 [==============================] - 29s 118ms/step - loss: 0.3912 - accuracy: 0.8198 - val_loss: 0.4550 - val_accuracy: 0.7975\n",
      "Epoch 16/25\n",
      "250/250 [==============================] - 30s 120ms/step - loss: 0.3866 - accuracy: 0.8249 - val_loss: 0.4091 - val_accuracy: 0.8250\n",
      "Epoch 17/25\n",
      "250/250 [==============================] - 30s 121ms/step - loss: 0.3821 - accuracy: 0.8256 - val_loss: 0.5122 - val_accuracy: 0.7745\n",
      "Epoch 18/25\n",
      "250/250 [==============================] - 30s 120ms/step - loss: 0.3716 - accuracy: 0.8288 - val_loss: 0.4273 - val_accuracy: 0.8140\n",
      "Epoch 19/25\n",
      "250/250 [==============================] - 29s 116ms/step - loss: 0.3669 - accuracy: 0.8345 - val_loss: 0.4131 - val_accuracy: 0.8205\n",
      "Epoch 20/25\n",
      "250/250 [==============================] - 30s 120ms/step - loss: 0.3519 - accuracy: 0.8403 - val_loss: 0.4568 - val_accuracy: 0.8040\n",
      "Epoch 21/25\n",
      "250/250 [==============================] - 30s 119ms/step - loss: 0.3451 - accuracy: 0.8434 - val_loss: 0.4711 - val_accuracy: 0.7980\n",
      "Epoch 22/25\n",
      "250/250 [==============================] - 31s 122ms/step - loss: 0.3424 - accuracy: 0.8465 - val_loss: 0.4070 - val_accuracy: 0.8235\n",
      "Epoch 23/25\n",
      "250/250 [==============================] - 32s 126ms/step - loss: 0.3411 - accuracy: 0.8460 - val_loss: 0.4048 - val_accuracy: 0.8320\n",
      "Epoch 24/25\n",
      "250/250 [==============================] - 30s 118ms/step - loss: 0.3267 - accuracy: 0.8621 - val_loss: 0.5053 - val_accuracy: 0.7960\n",
      "Epoch 25/25\n",
      "250/250 [==============================] - 30s 120ms/step - loss: 0.3289 - accuracy: 0.8600 - val_loss: 0.4705 - val_accuracy: 0.8155\n"
     ]
    },
    {
     "data": {
      "text/plain": [
       "<keras.src.callbacks.History at 0x1de38acad90>"
      ]
     },
     "execution_count": 14,
     "metadata": {},
     "output_type": "execute_result"
    }
   ],
   "source": [
    "cnn.fit(x = training_set, validation_data = test_set, epochs = 25) #32 batch size and 8000 images,(32*250=8000)\n",
    "#250 steps to reach 8000 images for 32 batc"
   ]
  },
  {
   "cell_type": "markdown",
   "metadata": {
    "id": "VJrp14E31yUm"
   },
   "source": [
    "## Part 4 - Making a single prediction"
   ]
  },
  {
   "cell_type": "code",
   "execution_count": 19,
   "metadata": {
    "id": "FzZvnqqF12_D"
   },
   "outputs": [
    {
     "name": "stdout",
     "output_type": "stream",
     "text": [
      "1/1 [==============================] - 0s 16ms/step\n",
      "cat\n"
     ]
    }
   ],
   "source": [
    "import numpy as np\n",
    "from keras.preprocessing import image\n",
    "test_image = image.load_img('dataset/single_prediction/cat_or_dog_2.jpg', target_size = (64,64))\n",
    "test_image = image.img_to_array(test_image)\n",
    "test_image = np.expand_dims(test_image, axis = 0)\n",
    "result = cnn.predict(test_image/255.0)\n",
    "training_set.class_indices\n",
    "if result[0][0]>0.5:\n",
    "  prediction = 'dog'\n",
    "else:\n",
    "  prediction = 'cat'\n",
    "print(prediction)"
   ]
  },
  {
   "cell_type": "code",
   "execution_count": null,
   "metadata": {},
   "outputs": [],
   "source": []
  }
 ],
 "metadata": {
  "colab": {
   "provenance": []
  },
  "kernelspec": {
   "display_name": "Python 3 (ipykernel)",
   "language": "python",
   "name": "python3"
  },
  "language_info": {
   "codemirror_mode": {
    "name": "ipython",
    "version": 3
   },
   "file_extension": ".py",
   "mimetype": "text/x-python",
   "name": "python",
   "nbconvert_exporter": "python",
   "pygments_lexer": "ipython3",
   "version": "3.11.4"
  }
 },
 "nbformat": 4,
 "nbformat_minor": 1
}
